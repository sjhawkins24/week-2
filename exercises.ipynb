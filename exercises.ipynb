{
 "cells": [
  {
   "cell_type": "markdown",
   "id": "6cf1aed9",
   "metadata": {},
   "source": [
    "<font color='darkred'> Unless otherwise noted, **this notebook will not be reviewed or autograded.**</font> You are welcome to use it for scratchwork, but **only the files listed in the exercises will be checked.**\n",
    "\n",
    "---\n",
    "\n",
    "# Exercises\n",
    "\n",
    "For these exercises, add your functions to the *apputil\\.py* file. If you like, you're welcome to adjust the *app\\.py* file, but it is not required.\n",
    "\n",
    "## Exercise 1\n",
    "\n",
    "Given enough pennies (1 cent) and nickels (5 cents), write a function `ways(n)` which calculates the number of ways you can make change for a given amount of cents `n`. The function should return the number of ways to yield `n` cents using only pennies and nickels.\n",
    "\n",
    "**Test Cases:**\n",
    "\n",
    "```python\n",
    "function   --->      (num pennies, num nickels)\n",
    "    \n",
    "ways(12)   ---> 3    [(2, 2), (7, 1), (12, 0)]               \n",
    "ways(20)   ---> 5    [(0, 4), (5, 3), (10, 2), (15, 1), (20, 0)]\n",
    "ways(3)    ---> 1    [(3, 0)]\n",
    "ways(0)    ---> 1    [(0, 0)]\n",
    "```\n",
    "\n",
    "*Note: the autograder will be checking only for the function to return the **number** of ways. The items listed to the right, above, are for reference only.*"
   ]
  },
  {
   "cell_type": "markdown",
   "id": "a067cdd5",
   "metadata": {
    "vscode": {
     "languageId": "plaintext"
    }
   },
   "source": [
    "### optional variation\n",
    "\n",
    "Update your `ways` function to incorporate an *arbitrary* set of coin values. I.e., your function should now look something like this:\n",
    "\n",
    "```python\n",
    "def ways(cents, coin_types=[1, 5]):\n",
    "    # code code ...\n",
    "\n",
    ">>> ways(100, [25, 10, 5, 1])\n",
    ">>> 242\n",
    "```\n"
   ]
  },
  {
   "cell_type": "code",
   "execution_count": 17,
   "id": "ae5247e1",
   "metadata": {},
   "outputs": [],
   "source": [
    "#Start by creating a helper function that will get called from the main function \n",
    "def pennies_fill(n, nickels):\n",
    "    '''Function will accept a goal number n, and the number of nickes and return the number of pennies to make up the goal'''\n",
    "    remaining = n - 5*nickels\n",
    "    return(remaining)\n",
    "\n",
    "def ways(n): \n",
    "    '''Function calculates the number of ways you can make change for a given value n'''\n",
    "    #Start by figuring out the max number of nickels \n",
    "    max_nickles = n // 5\n",
    "    #Now loop through 0 through max nickles \n",
    "    options = []\n",
    "    for n in range(max_nickles):\n",
    "        options.append(ways(n))\n",
    "\n",
    "    num_options = len(options) + 1 # We add the plus one to account for a no nickles option \n",
    "\n",
    "    return(num_options)\n",
    "\n",
    "def ways_simple(n):\n",
    "    '''Functin calculates the number of ways you can make change for a given n'''\n",
    "    #The number of ways you can make change with nickels and pennies is just the \n",
    "    #number of times a nickel evenly goes into the total number plus one (since you don't have to have any nickels)\n",
    "    max_nickels = n // 5 +1 \n",
    "    return(max_nickels)\n",
    "\n",
    "\n"
   ]
  },
  {
   "cell_type": "code",
   "execution_count": 21,
   "id": "a95eb39d",
   "metadata": {},
   "outputs": [
    {
     "data": {
      "text/plain": [
       "1"
      ]
     },
     "execution_count": 21,
     "metadata": {},
     "output_type": "execute_result"
    }
   ],
   "source": [
    "ways(1)"
   ]
  },
  {
   "cell_type": "markdown",
   "id": "28682d59",
   "metadata": {},
   "source": [
    "## Exercise 2\n",
    "\n",
    "Suppose we have student `names`, and test `scores` for each student, respectively. For example, we could have:\n",
    "\n",
    "```python\n",
    "names = np.array(['Hannah', 'Astrid', 'Abdul', 'Mauve', 'Jung'])\n",
    "scores = np.array([99, 71, 85, 62, 91])\n",
    "```\n",
    "\n",
    "### part 1\n",
    "\n",
    "Use NumPy to write a function `lowest_score(names, scores)` that returns the `name` of the student with the lowest `score`.\n",
    "\n",
    "> Hint: take a look at the [argmin](https://numpy.org/doc/stable/reference/generated/numpy.argmin.html) function.\n",
    "\n",
    "### part 2\n",
    "\n",
    "Write a similar function `sort_names(names, scores)` that will list the names of students in *descending* order of test score (i.e., a list of names, with associated scores in order from highest to lowest)."
   ]
  },
  {
   "cell_type": "code",
   "execution_count": null,
   "id": "8d78555f",
   "metadata": {},
   "outputs": [],
   "source": [
    "import numpy as np\n",
    "names = np.array([\"Hannah\", \"Astrid\", \"Abdul\", \"Mauve\", \"Jung\" ])\n",
    "scores = np.array([99, 71, 85, 62, 91])\n",
    "def lowest_score(names, scores): \n",
    "    '''Function that returns the name of the lowest scoring student'''\n",
    "    #Get the lowest score\n",
    "    min_score = np.argmin(scores)\n",
    "    #Use that as a mask to get the name associated with the lowest score\n",
    "    lowest_scorer = names[min_score]\n",
    "    return(lowest_scorer)\n",
    "\n",
    "def sort_names(names, scores): \n",
    "    '''Function that lists the name of students in decending order'''\n",
    "    #Create an empty dictionary \n",
    "    scores_dict = {}\n",
    "    #Use zip to create the dictionary \n",
    "    for names, scores in zip(names, scores):\n",
    "        scores_dict[names] = scores\n",
    "    #Now sort the dictionary by scores\n",
    "    sorted_scores_dict = dict(sorted(scores_dict.items(), key=lambda item: item[1], reverse=True))\n",
    "    return(sorted_scores_dict.keys())\n",
    "    \n"
   ]
  },
  {
   "cell_type": "code",
   "execution_count": 16,
   "id": "13c1a9ca",
   "metadata": {},
   "outputs": [
    {
     "name": "stdout",
     "output_type": "stream",
     "text": [
      "dict_keys(['Hannah', 'Jung', 'Abdul', 'Astrid', 'Mauve'])\n"
     ]
    }
   ],
   "source": [
    "names =[\"Hannah\", \"Astrid\", \"Abdul\", \"Mauve\", \"Jung\" ]\n",
    "scores = [99, 71, 85, 62, 91]\n",
    "\n",
    "\n",
    "sort_names(names, scores)\n"
   ]
  }
 ],
 "metadata": {
  "kernelspec": {
   "display_name": "base",
   "language": "python",
   "name": "python3"
  },
  "language_info": {
   "codemirror_mode": {
    "name": "ipython",
    "version": 3
   },
   "file_extension": ".py",
   "mimetype": "text/x-python",
   "name": "python",
   "nbconvert_exporter": "python",
   "pygments_lexer": "ipython3",
   "version": "3.11.13"
  }
 },
 "nbformat": 4,
 "nbformat_minor": 5
}
